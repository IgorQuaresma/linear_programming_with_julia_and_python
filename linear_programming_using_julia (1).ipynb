{
 "cells": [
  {
   "cell_type": "markdown",
   "metadata": {},
   "source": [
    "## Exercise 1 - Generic problem "
   ]
  },
  {
   "cell_type": "code",
   "execution_count": 100,
   "metadata": {},
   "outputs": [
    {
     "name": "stdout",
     "output_type": "stream",
     "text": [
      "Min 3 x1 + 2 x2 + 4 x3\n",
      "Subject to\n",
      " 2 x1 + x2 + 3 x3 == 60.0\n",
      " 3 x1 + 3 x2 + 5 x3 >= 120.0\n",
      " x1 >= 0.0\n",
      " x2 >= 0.0\n",
      " x3 >= 0.0\n",
      "JuMP.termination_status(LpModel) = MathOptInterface.OPTIMAL\n",
      "x1 = 0.0\n",
      "x2 = 15.0\n",
      "x3 = 15.0\n",
      "Total: 90.0\n"
     ]
    }
   ],
   "source": [
    "using JuMP, GLPK\n",
    "\n",
    "#Creating the Problem\n",
    "LpModel = Model(GLPK.Optimizer) \n",
    "\n",
    "#Creating the variables\n",
    "@variable(LpModel, x1 >= 0)\n",
    "@variable(LpModel, x2 >= 0)\n",
    "@variable(LpModel, x3 >= 0)\n",
    "\n",
    "#Objective function\n",
    "@objective(LpModel, Min, 3x1+2x2+4x3)\n",
    "\n",
    "#Constraints\n",
    "@constraint(LpModel, 2x1+x2+3x3 == 60 )\n",
    "@constraint(LpModel, 3x1+3x2+5x3 >= 120 )\n",
    "\n",
    "#Show the formulated model\n",
    "print(LpModel)\n",
    "\n",
    "#Solving the model\n",
    "status = JuMP.optimize!(LpModel) \n",
    "\n",
    "#Showing the status\n",
    "@show JuMP.termination_status(LpModel)\n",
    "\n",
    "#Showing the results from the decision variables and the objective function.\n",
    "println(\"x1 = \", JuMP.value.(x1))\n",
    "println(\"x2 = \", JuMP.value.(x2))\n",
    "println(\"x3 = \", JuMP.value.(x3))\n",
    "println(\"Total: \", JuMP.objective_value(LpModel))"
   ]
  },
  {
   "cell_type": "markdown",
   "metadata": {},
   "source": [
    "## Exercise 2 - Transportation problem "
   ]
  },
  {
   "cell_type": "code",
   "execution_count": null,
   "metadata": {},
   "outputs": [],
   "source": [
    "using JuMP, GLPK"
   ]
  },
  {
   "cell_type": "code",
   "execution_count": 109,
   "metadata": {},
   "outputs": [
    {
     "name": "stdout",
     "output_type": "stream",
     "text": [
      "Min 800 x[Warehouse 1,Bar 1] + 700 x[Warehouse 1,Bar 2] + 400 x[Warehouse 1,Bar 3] + 100 x[Warehouse 1,Bar 4] + 600 x[Warehouse 2,Bar 1] + 800 x[Warehouse 2,Bar 2] + 500 x[Warehouse 2,Bar 3] + 150 x[Warehouse 2,Bar 4] + 200 x[Warehouse 3,Bar 1] + 400 x[Warehouse 3,Bar 2] + 600 x[Warehouse 3,Bar 3] + 100 x[Warehouse 3,Bar 4] + 800 x[Warehouse 4,Bar 1] + 200 x[Warehouse 4,Bar 2] + 300 x[Warehouse 4,Bar 3] + 500 x[Warehouse 4,Bar 4]\n",
      "Subject to\n",
      " x[Warehouse 1,Bar 1] + x[Warehouse 1,Bar 2] + x[Warehouse 1,Bar 3] + x[Warehouse 1,Bar 4] == 10.0\n",
      " x[Warehouse 2,Bar 1] + x[Warehouse 2,Bar 2] + x[Warehouse 2,Bar 3] + x[Warehouse 2,Bar 4] == 20.0\n",
      " x[Warehouse 3,Bar 1] + x[Warehouse 3,Bar 2] + x[Warehouse 3,Bar 3] + x[Warehouse 3,Bar 4] == 20.0\n",
      " x[Warehouse 4,Bar 1] + x[Warehouse 4,Bar 2] + x[Warehouse 4,Bar 3] + x[Warehouse 4,Bar 4] == 10.0\n",
      " x[Warehouse 1,Bar 1] + x[Warehouse 2,Bar 1] + x[Warehouse 3,Bar 1] + x[Warehouse 4,Bar 1] == 20.0\n",
      " x[Warehouse 1,Bar 2] + x[Warehouse 2,Bar 2] + x[Warehouse 3,Bar 2] + x[Warehouse 4,Bar 2] == 10.0\n",
      " x[Warehouse 1,Bar 3] + x[Warehouse 2,Bar 3] + x[Warehouse 3,Bar 3] + x[Warehouse 4,Bar 3] == 10.0\n",
      " x[Warehouse 1,Bar 4] + x[Warehouse 2,Bar 4] + x[Warehouse 3,Bar 4] + x[Warehouse 4,Bar 4] == 20.0\n",
      " x[Warehouse 1,Bar 1] >= 0.0\n",
      " x[Warehouse 2,Bar 1] >= 0.0\n",
      " x[Warehouse 3,Bar 1] >= 0.0\n",
      " x[Warehouse 4,Bar 1] >= 0.0\n",
      " x[Warehouse 1,Bar 2] >= 0.0\n",
      " x[Warehouse 2,Bar 2] >= 0.0\n",
      " x[Warehouse 3,Bar 2] >= 0.0\n",
      " x[Warehouse 4,Bar 2] >= 0.0\n",
      " x[Warehouse 1,Bar 3] >= 0.0\n",
      " x[Warehouse 2,Bar 3] >= 0.0\n",
      " x[Warehouse 3,Bar 3] >= 0.0\n",
      " x[Warehouse 4,Bar 3] >= 0.0\n",
      " x[Warehouse 1,Bar 4] >= 0.0\n",
      " x[Warehouse 2,Bar 4] >= 0.0\n",
      " x[Warehouse 3,Bar 4] >= 0.0\n",
      " x[Warehouse 4,Bar 4] >= 0.0\n",
      "JuMP.has_values(Transportation_example_julia) = true\n",
      "JuMP.termination_status(Transportation_example_julia) = MathOptInterface.OPTIMAL\n",
      "JuMP.primal_status(Transportation_example_julia) == MOI.FEASIBLE_POINT = true\n",
      "Total: 13000.0Decision variables: 2-dimensional DenseAxisArray{Float64,2,...} with index sets:\n",
      "    Dimension 1, [\"Warehouse 1\", \"Warehouse 2\", \"Warehouse 3\", \"Warehouse 4\"]\n",
      "    Dimension 2, [\"Bar 1\", \"Bar 2\", \"Bar 3\", \"Bar 4\"]\n",
      "And data, a 4×4 Array{Float64,2}:\n",
      "  0.0   0.0  10.0   0.0\n",
      "  0.0   0.0   0.0  20.0\n",
      " 20.0   0.0   0.0   0.0\n",
      "  0.0  10.0   0.0   0.0"
     ]
    }
   ],
   "source": [
    "warehouses = [\"Warehouse 1\", \"Warehouse 2\",\"Warehouse 3\",\"Warehouse 4\"]\n",
    "\n",
    "values_warehouses = [10,20,20,10]\n",
    "\n",
    "\n",
    "bars = [\"Bar 1\",\"Bar 2\",\"Bar 3\",\"Bar 4\"]\n",
    "\n",
    "values_bars = [20,10,10,20]\n",
    " \n",
    "costs = [800 700 400 100;\n",
    "         600 800 500 150;\n",
    "         200 400 600 100;\n",
    "         800 200 300 500]\n",
    "\n",
    "\n",
    "nwarehouses = length(warehouses)\n",
    "nbars = length(bars)\n",
    "\n",
    "#Creating  the dictionaries \n",
    "supply_dict = Dict(zip( warehouses, values_warehouses))\n",
    "demand_dict = Dict(zip(bars, values_bars))\n",
    "costs_dict = Dict()\n",
    "for i in 1:length(warehouses)\n",
    "  for j in 1:length(bars)\n",
    "    costs_dict[warehouses[i], bars[j]] = costs[i,j]\n",
    "  end\n",
    "end\n",
    "\n",
    "\n",
    "#Create problem\n",
    "Transportation_example_julia = Model(GLPK.Optimizer)\n",
    "\n",
    "#Create variables\n",
    "@variable(Transportation_example_julia, x[warehouses, bars] >= 0)\n",
    "\n",
    "\n",
    "@objective(Transportation_example_julia, Min, sum(costs_dict[i,j]*x[i,j] for i in warehouses, j in bars))\n",
    "\n",
    "\n",
    "#Constraints\n",
    "for i in warehouses\n",
    "    @constraint(Transportation_example_julia, sum(x[i,j] for j in bars) == supply_dict[i] )\n",
    "end\n",
    "\n",
    "\n",
    "for j in bars\n",
    "    @constraint(Transportation_example_julia, sum(x[i,j] for i in warehouses) == demand_dict[j] )\n",
    "end\n",
    "\n",
    "\n",
    "\n",
    "print(Transportation_example_julia)\n",
    "\n",
    "status = JuMP.optimize!(Transportation_example_julia) # solves the model\n",
    "\n",
    "#Print status \n",
    "@show JuMP.termination_status(Transportation_example_julia)\n",
    "\n",
    "#Print the result of the objective function\n",
    "print(\"Total: \",JuMP.objective_value(Transportation_example_julia))\n",
    "\n",
    "#Print decision variables\n",
    "print(\"Decision variables: \",JuMP.value.(x))"
   ]
  },
  {
   "cell_type": "code",
   "execution_count": null,
   "metadata": {},
   "outputs": [],
   "source": [
    "#Creating  the dictionaries \n",
    "supply_dict = Dict(zip( warehouses, values_warehouses))\n",
    "\n",
    "demand_dict = Dict(zip(bars, values_bars))\n",
    "\n",
    "costs_dict = Dict()\n",
    "for i in 1:length(warehouses)\n",
    "  for j in 1:length(bars)\n",
    "    costs_dict[warehouses[i], bars[j]] = costs[i,j]\n",
    "  end\n",
    "end"
   ]
  },
  {
   "cell_type": "code",
   "execution_count": 104,
   "metadata": {},
   "outputs": [
    {
     "name": "stdout",
     "output_type": "stream",
     "text": [
      "Min 800 x[Warehouse 1,Bar 1] + 700 x[Warehouse 1,Bar 2] + 400 x[Warehouse 1,Bar 3] + 100 x[Warehouse 1,Bar 4] + 600 x[Warehouse 2,Bar 1] + 800 x[Warehouse 2,Bar 2] + 500 x[Warehouse 2,Bar 3] + 150 x[Warehouse 2,Bar 4] + 200 x[Warehouse 3,Bar 1] + 400 x[Warehouse 3,Bar 2] + 600 x[Warehouse 3,Bar 3] + 100 x[Warehouse 3,Bar 4] + 800 x[Warehouse 4,Bar 1] + 200 x[Warehouse 4,Bar 2] + 300 x[Warehouse 4,Bar 3] + 500 x[Warehouse 4,Bar 4]\n",
      "Subject to\n",
      " x[Warehouse 1,Bar 1] + x[Warehouse 1,Bar 2] + x[Warehouse 1,Bar 3] + x[Warehouse 1,Bar 4] == 10.0\n",
      " x[Warehouse 2,Bar 1] + x[Warehouse 2,Bar 2] + x[Warehouse 2,Bar 3] + x[Warehouse 2,Bar 4] == 20.0\n",
      " x[Warehouse 3,Bar 1] + x[Warehouse 3,Bar 2] + x[Warehouse 3,Bar 3] + x[Warehouse 3,Bar 4] == 20.0\n",
      " x[Warehouse 4,Bar 1] + x[Warehouse 4,Bar 2] + x[Warehouse 4,Bar 3] + x[Warehouse 4,Bar 4] == 10.0\n",
      " x[Warehouse 1,Bar 1] + x[Warehouse 2,Bar 1] + x[Warehouse 3,Bar 1] + x[Warehouse 4,Bar 1] == 20.0\n",
      " x[Warehouse 1,Bar 2] + x[Warehouse 2,Bar 2] + x[Warehouse 3,Bar 2] + x[Warehouse 4,Bar 2] == 10.0\n",
      " x[Warehouse 1,Bar 3] + x[Warehouse 2,Bar 3] + x[Warehouse 3,Bar 3] + x[Warehouse 4,Bar 3] == 10.0\n",
      " x[Warehouse 1,Bar 4] + x[Warehouse 2,Bar 4] + x[Warehouse 3,Bar 4] + x[Warehouse 4,Bar 4] == 20.0\n",
      " x[Warehouse 1,Bar 1] >= 0.0\n",
      " x[Warehouse 2,Bar 1] >= 0.0\n",
      " x[Warehouse 3,Bar 1] >= 0.0\n",
      " x[Warehouse 4,Bar 1] >= 0.0\n",
      " x[Warehouse 1,Bar 2] >= 0.0\n",
      " x[Warehouse 2,Bar 2] >= 0.0\n",
      " x[Warehouse 3,Bar 2] >= 0.0\n",
      " x[Warehouse 4,Bar 2] >= 0.0\n",
      " x[Warehouse 1,Bar 3] >= 0.0\n",
      " x[Warehouse 2,Bar 3] >= 0.0\n",
      " x[Warehouse 3,Bar 3] >= 0.0\n",
      " x[Warehouse 4,Bar 3] >= 0.0\n",
      " x[Warehouse 1,Bar 4] >= 0.0\n",
      " x[Warehouse 2,Bar 4] >= 0.0\n",
      " x[Warehouse 3,Bar 4] >= 0.0\n",
      " x[Warehouse 4,Bar 4] >= 0.0\n"
     ]
    }
   ],
   "source": [
    "#Create problem\n",
    "Transportation_example_julia = Model(GLPK.Optimizer)\n",
    "\n",
    "#Create variables\n",
    "@variable(Transportation_example_julia, x[warehouses, bars] >= 0)\n",
    "\n",
    "\n",
    "@objective(Transportation_example_julia, Min, sum(costs_dict[i,j]*x[i,j] for i in warehouses, j in bars))\n",
    "\n",
    "\n",
    "#Restricoes \n",
    "for i in warehouses\n",
    "    @constraint(Transportation_example_julia, sum(x[i,j] for j in bars) == supply_dict[i] )\n",
    "end\n",
    "\n",
    "\n",
    "for j in bars\n",
    "    @constraint(Transportation_example_julia, sum(x[i,j] for i in warehouses) == demand_dict[j] )\n",
    "end\n",
    "\n",
    "\n",
    "\n",
    "print(Transportation_example_julia)"
   ]
  },
  {
   "cell_type": "code",
   "execution_count": 105,
   "metadata": {},
   "outputs": [
    {
     "name": "stdout",
     "output_type": "stream",
     "text": [
      "JuMP.has_values(Transportation_example_julia) = true\n",
      "JuMP.termination_status(Transportation_example_julia) = MathOptInterface.OPTIMAL\n",
      "JuMP.primal_status(Transportation_example_julia) == MOI.FEASIBLE_POINT = true\n",
      "Funcao objetivo: 13000.0Funcao objetivo: 2-dimensional DenseAxisArray{Float64,2,...} with index sets:\n",
      "    Dimension 1, [\"Warehouse 1\", \"Warehouse 2\", \"Warehouse 3\", \"Warehouse 4\"]\n",
      "    Dimension 2, [\"Bar 1\", \"Bar 2\", \"Bar 3\", \"Bar 4\"]\n",
      "And data, a 4×4 Array{Float64,2}:\n",
      "  0.0   0.0  10.0   0.0\n",
      "  0.0   0.0   0.0  20.0\n",
      " 20.0   0.0   0.0   0.0\n",
      "  0.0  10.0   0.0   0.0"
     ]
    }
   ],
   "source": [
    "status = JuMP.optimize!(Transportation_example_julia) # solves the model\n",
    "\n",
    "# TEST SOLVER STATUSES\n",
    "@show JuMP.has_values(Transportation_example_julia)\n",
    "@show JuMP.termination_status(Transportation_example_julia)\n",
    "@show JuMP.primal_status(Transportation_example_julia) == MOI.FEASIBLE_POINT;\n",
    "\n",
    "print(\"Funcao objetivo: \",JuMP.objective_value(Transportation_example_julia))\n",
    "\n",
    "print(\"Funcao objetivo: \",JuMP.value.(x))"
   ]
  },
  {
   "cell_type": "code",
   "execution_count": null,
   "metadata": {},
   "outputs": [],
   "source": []
  }
 ],
 "metadata": {
  "kernelspec": {
   "display_name": "Julia 1.4.1",
   "language": "julia",
   "name": "julia-1.4"
  },
  "language_info": {
   "file_extension": ".jl",
   "mimetype": "application/julia",
   "name": "julia",
   "version": "1.4.1"
  }
 },
 "nbformat": 4,
 "nbformat_minor": 2
}
