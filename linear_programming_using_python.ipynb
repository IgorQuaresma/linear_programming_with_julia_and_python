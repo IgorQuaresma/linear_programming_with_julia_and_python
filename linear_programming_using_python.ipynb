{
 "cells": [
  {
   "cell_type": "markdown",
   "metadata": {},
   "source": [
    "## Exercise 1 - Generic problem "
   ]
  },
  {
   "cell_type": "code",
   "execution_count": 85,
   "metadata": {},
   "outputs": [],
   "source": [
    "from pulp import *"
   ]
  },
  {
   "cell_type": "code",
   "execution_count": 86,
   "metadata": {},
   "outputs": [
    {
     "name": "stdout",
     "output_type": "stream",
     "text": [
      "Status:  Optimal\n",
      "x2 = 15.0\n",
      "x3 = 15.0\n",
      "Total  90.0\n"
     ]
    }
   ],
   "source": [
    "#Creating the problem\n",
    "prob = LpProblem('LP_with_Python',LpMinimize)\n",
    "\n",
    "\n",
    "#Creating the variables\n",
    "x1 = LpVariable('x1',0)\n",
    "x2 = LpVariable('x2',0)\n",
    "x3 = LpVariable('x3',0)\n",
    "\n",
    "\n",
    "#Objective function\n",
    "prob += 3*x1+2*x2+4*x3\n",
    "\n",
    "\n",
    "#Constraints\n",
    "prob += 2*x1+x2+3*x3 == 60\n",
    "prob += 3*x1+3*x2+5*x3 >= 120\n",
    "\n",
    "#Creating .lp file\n",
    "prob.writeLP(\"LP_with_Python\")\n",
    "\n",
    "#Solving the problem\n",
    "prob.solve()\n",
    "\n",
    "#Print status \n",
    "print('Status: ',LpStatus[prob.status])\n",
    "\n",
    "#Print decision variables\n",
    "for v in prob.variables():\n",
    "    if v.varValue > 0:\n",
    "        print(v.name, '=', v.varValue)\n",
    "\n",
    "        \n",
    "#Print the result of the objective function\n",
    "print('Total ', value(prob.objective))"
   ]
  },
  {
   "cell_type": "markdown",
   "metadata": {},
   "source": [
    "## Exercise 2 - Transportation problem "
   ]
  },
  {
   "cell_type": "code",
   "execution_count": 87,
   "metadata": {},
   "outputs": [],
   "source": [
    "from pulp import *"
   ]
  },
  {
   "cell_type": "code",
   "execution_count": 88,
   "metadata": {},
   "outputs": [],
   "source": [
    "#Warehouses data + dictionary\n",
    "warehouses = ['Warehouse 1', 'Warehouse 2','Warehouse 3','Warehouse 4']\n",
    "\n",
    "supply = {'Warehouse 1': 10,\n",
    "          'Warehouse 2': 20,\n",
    "          'Warehouse 3': 20,\n",
    "          'Warehouse 4': 10}\n",
    "\n",
    "\n",
    "#Bars data + dictionary\n",
    "bars = ['Bar 1','Bar 2','Bar 3','Bar 4']\n",
    "\n",
    "demand = {'Bar 1': 20,\n",
    "          'Bar 2': 10,\n",
    "          'Bar 3': 10,\n",
    "          'Bar 4': 20}\n",
    " \n",
    "#Costs data + dictionary     \n",
    "costs = [[800,700,400,100],\n",
    "         [600,800,500,150],\n",
    "         [200,400,600,100],\n",
    "         [800,200,300,500]]\n",
    "\n",
    "\n",
    "dict_custos = {}\n",
    "for i in range(len(warehouses)):\n",
    "    dict_custos[warehouses[i]] = dict(zip(bars,costs[i]))\n",
    "    \n",
    "    \n"
   ]
  },
  {
   "cell_type": "code",
   "execution_count": 91,
   "metadata": {},
   "outputs": [
    {
     "data": {
      "text/plain": [
       "1"
      ]
     },
     "execution_count": 91,
     "metadata": {},
     "output_type": "execute_result"
    }
   ],
   "source": [
    "#Create the problem\n",
    "prob = LpProblem('Transportation_example',LpMinimize)\n",
    "\n",
    "\n",
    "routes = [(w,b) for w in warehouses for b in bars]\n",
    "\n",
    "\n",
    "#Variables\n",
    "amount_vars = LpVariable.dicts('Route',(warehouses,bars), 0, None)\n",
    "\n",
    "\n",
    "#Objective function\n",
    "prob += lpSum(amount_vars[i][j]*dict_custos[i][j] for (i,j) in routes)\n",
    "\n",
    "\n",
    "\n",
    "#Constraints\n",
    "for w in warehouses:\n",
    "    prob += lpSum(amount_vars[w][b] for b in bars) == supply[w]\n",
    "    \n",
    "for b in bars:\n",
    "    prob += lpSum(amount_vars[w][b] for w in warehouses) == demand[b]\n",
    "    \n",
    "\n",
    "#Print the structure of the problem  \n",
    "prob.writeLP('Transportation_example_Python')\n",
    "\n",
    "#Solving the problem\n",
    "prob.solve()"
   ]
  },
  {
   "cell_type": "code",
   "execution_count": 92,
   "metadata": {},
   "outputs": [
    {
     "name": "stdout",
     "output_type": "stream",
     "text": [
      "Status:  Optimal\n",
      "Route_Warehouse_1_Bar_3 = 10.0\n",
      "Route_Warehouse_2_Bar_4 = 20.0\n",
      "Route_Warehouse_3_Bar_1 = 20.0\n",
      "Route_Warehouse_4_Bar_2 = 10.0\n",
      "Total  13000.0\n"
     ]
    }
   ],
   "source": [
    "#Print status \n",
    "print('Status: ',LpStatus[prob.status])\n",
    "\n",
    "#Print decision variables\n",
    "for v in prob.variables():\n",
    "    if v.varValue > 0:\n",
    "        print(v.name, '=', v.varValue)\n",
    "\n",
    "#Print the result of the objective function\n",
    "print('Total ', value(prob.objective))"
   ]
  },
  {
   "cell_type": "code",
   "execution_count": null,
   "metadata": {},
   "outputs": [],
   "source": []
  }
 ],
 "metadata": {
  "kernelspec": {
   "display_name": "Python 3",
   "language": "python",
   "name": "python3"
  },
  "language_info": {
   "codemirror_mode": {
    "name": "ipython",
    "version": 3
   },
   "file_extension": ".py",
   "mimetype": "text/x-python",
   "name": "python",
   "nbconvert_exporter": "python",
   "pygments_lexer": "ipython3",
   "version": "3.7.3"
  }
 },
 "nbformat": 4,
 "nbformat_minor": 2
}
